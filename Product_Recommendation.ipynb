{
  "nbformat": 4,
  "nbformat_minor": 0,
  "metadata": {
    "colab": {
      "name": "Product-Recommendation.ipynb",
      "version": "0.3.2",
      "provenance": [],
      "include_colab_link": true
    },
    "kernelspec": {
      "name": "python3",
      "display_name": "Python 3"
    }
  },
  "cells": [
    {
      "cell_type": "markdown",
      "metadata": {
        "id": "view-in-github",
        "colab_type": "text"
      },
      "source": [
        "<a href=\"https://colab.research.google.com/github/KulwantSinghYadav/FinanceAI/blob/master/Product_Recommendation.ipynb\" target=\"_parent\"><img src=\"https://colab.research.google.com/assets/colab-badge.svg\" alt=\"Open In Colab\"/></a>"
      ]
    },
    {
      "cell_type": "markdown",
      "metadata": {
        "id": "7HjN7rsaYxtN",
        "colab_type": "text"
      },
      "source": [
        "This notebook will dwleve into the product reccomendation part of the AI applications in finance. \n",
        "When a card member surfs the financial institution website, financial institute can present a product reccomendation or action recommendation or information which would be most helpful to the cardmember.\n",
        "\n",
        "This can be acheived using the information financial institution has about the client and use a machine learning model to predict the most useful actions/information.\n",
        "\n"
      ]
    },
    {
      "cell_type": "markdown",
      "metadata": {
        "id": "P3pt86ybZAxY",
        "colab_type": "text"
      },
      "source": [
        "Typically the following type of data is availabe to make this decision:\n",
        "\n",
        "\n",
        "1.   **Customer data** - this would be like customer name, id, address, products, family information, income, profession, number of accounts and type of those accounts, balances etc.\n",
        "2.   **Transaction data** - This would be the financial transactions performed on the customer accounts\n",
        "3. **Interaction Data** - This is the hostory of customer interaction with the institution through various channels, like website logs, branch visit logs and customer care call logs\n",
        "\n"
      ]
    },
    {
      "cell_type": "code",
      "metadata": {
        "id": "chvgg2pUYcLy",
        "colab_type": "code",
        "colab": {}
      },
      "source": [
        ""
      ],
      "execution_count": 0,
      "outputs": []
    }
  ]
}